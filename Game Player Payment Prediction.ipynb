{
 "cells": [
  {
   "cell_type": "code",
   "execution_count": 1,
   "metadata": {},
   "outputs": [
    {
     "name": "stderr",
     "output_type": "stream",
     "text": [
      "C:\\Users\\pcaoaa\\AppData\\Local\\Continuum\\anaconda3\\lib\\site-packages\\sklearn\\ensemble\\weight_boosting.py:29: DeprecationWarning: numpy.core.umath_tests is an internal NumPy module and should not be imported. It will be removed in a future NumPy release.\n",
      "  from numpy.core.umath_tests import inner1d\n"
     ]
    }
   ],
   "source": [
    "import pandas as pd\n",
    "import numpy as np\n",
    "import copy\n",
    "from sklearn.linear_model import Lasso,LinearRegression,LassoCV\n",
    "from sklearn.linear_model.stochastic_gradient import SGDRegressor\n",
    "from sklearn.ensemble import GradientBoostingRegressor\n",
    "from sklearn.ensemble import RandomForestRegressor\n",
    "from sklearn.svm import SVR\n",
    "from sklearn.model_selection import train_test_split\n",
    "from sklearn.metrics import mean_squared_error, r2_score\n",
    "from sklearn.externals import joblib\n",
    "from sklearn.preprocessing import StandardScaler,MinMaxScaler,Normalizer,scale,MaxAbsScaler"
   ]
  },
  {
   "cell_type": "code",
   "execution_count": 2,
   "metadata": {},
   "outputs": [],
   "source": [
    "data = pd.read_csv('tap_fun_train.csv',parse_dates = True)"
   ]
  },
  {
   "cell_type": "code",
   "execution_count": 4,
   "metadata": {},
   "outputs": [],
   "source": [
    "# average online time is less than 12 minutes, then predict the amount of payment in 45 days = 7 days\n",
    "data_train = copy.copy(data[data['avg_online_minutes'] >= 12]) "
   ]
  },
  {
   "cell_type": "code",
   "execution_count": 5,
   "metadata": {},
   "outputs": [
    {
     "name": "stdout",
     "output_type": "stream",
     "text": [
      "(275717, 109)\n"
     ]
    }
   ],
   "source": [
    "print(data_train.shape)"
   ]
  },
  {
   "cell_type": "code",
   "execution_count": 6,
   "metadata": {},
   "outputs": [],
   "source": [
    "data_train = data_train.drop(['user_id','register_time'],axis=1)"
   ]
  },
  {
   "cell_type": "code",
   "execution_count": 7,
   "metadata": {},
   "outputs": [
    {
     "name": "stdout",
     "output_type": "stream",
     "text": [
      "(275717, 107)\n"
     ]
    }
   ],
   "source": [
    "print(data_train.shape)"
   ]
  },
  {
   "cell_type": "code",
   "execution_count": 8,
   "metadata": {},
   "outputs": [],
   "source": [
    "x_train = data_train.loc[:, data_train.columns != 'prediction_pay_price']\n",
    "y_train = data_train.loc[:, data_train.columns == 'prediction_pay_price']"
   ]
  },
  {
   "cell_type": "code",
   "execution_count": 9,
   "metadata": {},
   "outputs": [
    {
     "name": "stderr",
     "output_type": "stream",
     "text": [
      "C:\\Users\\pcaoaa\\AppData\\Local\\Continuum\\anaconda3\\lib\\site-packages\\sklearn\\linear_model\\coordinate_descent.py:491: ConvergenceWarning: Objective did not converge. You might want to increase the number of iterations. Fitting data with very small alpha may cause precision problems.\n",
      "  ConvergenceWarning)\n"
     ]
    },
    {
     "data": {
      "text/plain": [
       "Lasso(alpha=1.0, copy_X=True, fit_intercept=True, max_iter=1000,\n",
       "   normalize=False, positive=False, precompute=False, random_state=None,\n",
       "   selection='cyclic', tol=0.0001, warm_start=False)"
      ]
     },
     "execution_count": 9,
     "metadata": {},
     "output_type": "execute_result"
    }
   ],
   "source": [
    "# there is severe co-linearity in training set, so use L1 regularization to remove co-linearity\n",
    "model = Lasso()\n",
    "model.fit(x_train, y_train)"
   ]
  },
  {
   "cell_type": "code",
   "execution_count": 10,
   "metadata": {},
   "outputs": [
    {
     "name": "stdout",
     "output_type": "stream",
     "text": [
      "[ 6.20417558e-07  5.26177183e-06 -9.01406414e-07  2.58730669e-06\n",
      "  1.26297380e-05 -1.98281769e-05 -6.20828489e-07  3.81479221e-07\n",
      "  8.88581620e-07 -1.90037145e-06 -4.27988000e-03  6.40414395e-03\n",
      "  1.55859797e-02 -1.18105184e-02 -7.69854644e-03  8.60990278e-03\n",
      " -5.50771528e-03  3.79048587e-03 -2.52490882e-03 -2.31504390e-03\n",
      "  5.66069890e-04 -2.01501130e-03 -2.87705839e-03  4.14728745e-04\n",
      "  4.31926627e-04 -9.08751381e-03 -3.67890418e-03  2.78464638e-03\n",
      "  9.38689525e-03 -1.09772506e-02  1.09366161e-02 -8.66451167e-02\n",
      "  0.00000000e+00 -0.00000000e+00 -1.71058284e-02 -1.73949967e-01\n",
      " -1.13415193e-01  3.97065469e-01 -3.01812253e-01 -1.97414053e+00\n",
      "  0.00000000e+00  6.63390184e-01 -2.30785762e-01  2.48238629e+00\n",
      " -0.00000000e+00 -0.00000000e+00  0.00000000e+00 -1.15786644e-01\n",
      "  0.00000000e+00 -0.00000000e+00 -2.47359289e+00 -2.98786086e+00\n",
      " -6.80022616e+00  9.47380190e-01  0.00000000e+00  1.96626202e+00\n",
      "  0.00000000e+00  0.00000000e+00  0.00000000e+00 -0.00000000e+00\n",
      " -0.00000000e+00 -0.00000000e+00 -0.00000000e+00 -0.00000000e+00\n",
      "  0.00000000e+00 -0.00000000e+00 -0.00000000e+00 -0.00000000e+00\n",
      " -0.00000000e+00 -0.00000000e+00 -1.77467513e+00  0.00000000e+00\n",
      "  0.00000000e+00 -0.00000000e+00  0.00000000e+00  0.00000000e+00\n",
      "  0.00000000e+00  0.00000000e+00  0.00000000e+00 -0.00000000e+00\n",
      " -0.00000000e+00 -0.00000000e+00  0.00000000e+00  0.00000000e+00\n",
      "  1.77774113e-01 -0.00000000e+00  0.00000000e+00 -0.00000000e+00\n",
      "  0.00000000e+00  0.00000000e+00  0.00000000e+00  0.00000000e+00\n",
      "  0.00000000e+00 -0.00000000e+00  0.00000000e+00 -0.00000000e+00\n",
      " -0.00000000e+00 -8.81690181e-02 -0.00000000e+00  5.84668615e-03\n",
      "  0.00000000e+00  0.00000000e+00 -1.64521950e-01  4.77374396e-02\n",
      "  2.67629696e+00  7.34652352e+00]\n"
     ]
    }
   ],
   "source": [
    "print(model.coef_)"
   ]
  },
  {
   "cell_type": "code",
   "execution_count": 11,
   "metadata": {},
   "outputs": [
    {
     "name": "stdout",
     "output_type": "stream",
     "text": [
      "106\n"
     ]
    }
   ],
   "source": [
    "print(len(model.coef_))"
   ]
  },
  {
   "cell_type": "code",
   "execution_count": 12,
   "metadata": {},
   "outputs": [],
   "source": [
    "# find the attributes whose coef is close to 0\n",
    "none_mean = []\n",
    "for i in range(len(model.coef_)):\n",
    "    if abs(model.coef_[i]) < 1e-06:\n",
    "        none_mean.append(x_train.columns[i])"
   ]
  },
  {
   "cell_type": "code",
   "execution_count": 13,
   "metadata": {},
   "outputs": [
    {
     "name": "stdout",
     "output_type": "stream",
     "text": [
      "['wood_add_value', 'stone_add_value', 'meat_add_value', 'meat_reduce_value', 'magic_add_value', 'bd_training_hut_level', 'bd_healing_lodge_level', 'bd_warehouse_level', 'bd_market_level', 'bd_hero_gacha_level', 'bd_hero_strengthen_level', 'sr_scout_level', 'sr_training_speed_level', 'sr_cavalry_atk_level', 'sr_infantry_tier_3_level', 'sr_cavalry_tier_3_level', 'sr_shaman_tier_3_level', 'sr_troop_defense_level', 'sr_infantry_def_level', 'sr_cavalry_def_level', 'sr_shaman_def_level', 'sr_infantry_hp_level', 'sr_cavalry_hp_level', 'sr_shaman_hp_level', 'sr_infantry_tier_4_level', 'sr_cavalry_tier_4_level', 'sr_shaman_tier_4_level', 'sr_troop_attack_level', 'sr_hide_storage_level', 'sr_troop_consumption_level', 'sr_rss_a_prod_levell', 'sr_rss_b_prod_level', 'sr_rss_c_prod_level', 'sr_rss_d_prod_level', 'sr_rss_a_gather_level', 'sr_rss_b_gather_level', 'sr_rss_c_gather_level', 'sr_rss_d_gather_level', 'sr_troop_load_level', 'sr_rss_e_gather_level', 'sr_rss_e_prod_level', 'sr_outpost_tier_2_level', 'sr_healing_space_level', 'sr_gathering_hunter_buff_level', 'sr_healing_speed_level', 'sr_outpost_tier_3_level', 'sr_alliance_march_speed_level', 'sr_pvp_march_speed_level', 'sr_gathering_march_speed_level', 'sr_outpost_tier_4_level', 'sr_guest_troop_capacity_level', 'sr_march_size_level', 'sr_rss_help_bonus_level', 'pvp_lanch_count', 'pve_battle_count', 'pve_lanch_count']\n"
     ]
    }
   ],
   "source": [
    "print(none_mean)"
   ]
  },
  {
   "cell_type": "code",
   "execution_count": 14,
   "metadata": {},
   "outputs": [
    {
     "name": "stdout",
     "output_type": "stream",
     "text": [
      "56\n"
     ]
    }
   ],
   "source": [
    "print(len(none_mean))"
   ]
  },
  {
   "cell_type": "code",
   "execution_count": 15,
   "metadata": {},
   "outputs": [],
   "source": [
    "# remove the attributes whose coef is close to 0\n",
    "x_train_final = x_train.drop(none_mean, axis=1)"
   ]
  },
  {
   "cell_type": "code",
   "execution_count": 16,
   "metadata": {},
   "outputs": [],
   "source": [
    "X_train, X_test, Y_train, Y_test = train_test_split(x_train_final,y_train,test_size = 0.2, random_state = 0)"
   ]
  },
  {
   "cell_type": "code",
   "execution_count": 17,
   "metadata": {},
   "outputs": [],
   "source": [
    "X_test_7pays = X_test['pay_price'].tolist()"
   ]
  },
  {
   "cell_type": "code",
   "execution_count": 18,
   "metadata": {},
   "outputs": [],
   "source": [
    "# Standardize features by keeping the mean and scaling to unit variance\n",
    "# Compute the mean and std to be used for later scaling.\n",
    "scaler = StandardScaler(with_mean=False).fit(X_train.values)"
   ]
  },
  {
   "cell_type": "code",
   "execution_count": 19,
   "metadata": {},
   "outputs": [],
   "source": [
    "X_train = scaler.transform(X_train.values)\n",
    "X_test = scaler.transform(X_test.values)"
   ]
  },
  {
   "cell_type": "code",
   "execution_count": 20,
   "metadata": {},
   "outputs": [],
   "source": [
    "SGDModel = GradientBoostingRegressor(n_estimators=1000, learning_rate=0.01)\n",
    "#RandomForestRegressor(n_estimators=500)#LinearRegression()##SGDRegressor()"
   ]
  },
  {
   "cell_type": "code",
   "execution_count": 21,
   "metadata": {},
   "outputs": [
    {
     "data": {
      "text/plain": [
       "GradientBoostingRegressor(alpha=0.9, criterion='friedman_mse', init=None,\n",
       "             learning_rate=0.01, loss='ls', max_depth=3, max_features=None,\n",
       "             max_leaf_nodes=None, min_impurity_decrease=0.0,\n",
       "             min_impurity_split=None, min_samples_leaf=1,\n",
       "             min_samples_split=2, min_weight_fraction_leaf=0.0,\n",
       "             n_estimators=1000, presort='auto', random_state=None,\n",
       "             subsample=1.0, verbose=0, warm_start=False)"
      ]
     },
     "execution_count": 21,
     "metadata": {},
     "output_type": "execute_result"
    }
   ],
   "source": [
    "SGDModel.fit(X_train, Y_train.values.ravel())"
   ]
  },
  {
   "cell_type": "code",
   "execution_count": 22,
   "metadata": {},
   "outputs": [
    {
     "data": {
      "text/plain": [
       "['train_model.m']"
      ]
     },
     "execution_count": 22,
     "metadata": {},
     "output_type": "execute_result"
    }
   ],
   "source": [
    "joblib.dump(SGDModel,'train_model.m')"
   ]
  },
  {
   "cell_type": "code",
   "execution_count": 23,
   "metadata": {},
   "outputs": [],
   "source": [
    "y_pred = SGDModel.predict(X_test)"
   ]
  },
  {
   "cell_type": "code",
   "execution_count": 24,
   "metadata": {},
   "outputs": [
    {
     "name": "stdout",
     "output_type": "stream",
     "text": [
      "[[  2.98]\n",
      " [  0.  ]\n",
      " [160.8 ]\n",
      " ...\n",
      " [  1.98]\n",
      " [  0.  ]\n",
      " [  0.  ]]\n"
     ]
    }
   ],
   "source": [
    "# print(Y_train.values)"
   ]
  },
  {
   "cell_type": "code",
   "execution_count": 25,
   "metadata": {},
   "outputs": [],
   "source": [
    "for i in range(len(y_pred)):\n",
    "#     if the amount of payment in 45 days is less than that in 7 days, use the amount of 7 days as prediction   \n",
    "    if y_pred[i] < X_test_7pays[i]: \n",
    "        y_pred[i] = X_test_7pays[i]"
   ]
  },
  {
   "cell_type": "code",
   "execution_count": 26,
   "metadata": {},
   "outputs": [],
   "source": [
    "for i in range(len(y_pred)):\n",
    "#     if less than 0, then 0\n",
    "    if y_pred[i] < 0:\n",
    "        y_pred[i] = 0"
   ]
  },
  {
   "cell_type": "code",
   "execution_count": 27,
   "metadata": {},
   "outputs": [
    {
     "name": "stdout",
     "output_type": "stream",
     "text": [
      "Root Mean squared error: 199.99\n"
     ]
    }
   ],
   "source": [
    "print(\"Root Mean squared error: %.2f\" % mean_squared_error(Y_test, y_pred) ** 0.5)"
   ]
  },
  {
   "cell_type": "code",
   "execution_count": 28,
   "metadata": {},
   "outputs": [
    {
     "name": "stdout",
     "output_type": "stream",
     "text": [
      "Variance score: 0.38\n"
     ]
    }
   ],
   "source": [
    "print('Variance score: %.2f' % r2_score(Y_test, y_pred))"
   ]
  },
  {
   "cell_type": "code",
   "execution_count": 29,
   "metadata": {},
   "outputs": [],
   "source": [
    "data1 = pd.read_csv('tap_fun_test.csv',parse_dates=True)"
   ]
  },
  {
   "cell_type": "code",
   "execution_count": 30,
   "metadata": {},
   "outputs": [
    {
     "name": "stdout",
     "output_type": "stream",
     "text": [
      "(828934, 108)\n"
     ]
    }
   ],
   "source": [
    "print(data1.shape)"
   ]
  },
  {
   "cell_type": "code",
   "execution_count": 31,
   "metadata": {},
   "outputs": [],
   "source": [
    "data_test1 = copy.copy(data1[data1['avg_online_minutes'] < 12])\n",
    "data_test2 = copy.copy(data1[data1['avg_online_minutes'] >= 12])\n",
    "data_test2_7pays = data_test2['pay_price'].tolist()"
   ]
  },
  {
   "cell_type": "code",
   "execution_count": 32,
   "metadata": {},
   "outputs": [
    {
     "name": "stderr",
     "output_type": "stream",
     "text": [
      "C:\\Users\\pcaoaa\\AppData\\Local\\Continuum\\anaconda3\\lib\\site-packages\\pandas\\core\\frame.py:3781: SettingWithCopyWarning: \n",
      "A value is trying to be set on a copy of a slice from a DataFrame\n",
      "\n",
      "See the caveats in the documentation: http://pandas.pydata.org/pandas-docs/stable/indexing.html#indexing-view-versus-copy\n",
      "  return super(DataFrame, self).rename(**kwargs)\n"
     ]
    }
   ],
   "source": [
    "# if average online time is less than 12 minutes, payment in 45 days is equal to payment in 7 days\n",
    "data_test_part1 = data_test1[['user_id','pay_price']]\n",
    "data_test_part1.rename(columns={'pay_price':'prediction_pay_price'},inplace = True)\n",
    "data_test_part1.to_csv('tap_fun_result_part1.csv')"
   ]
  },
  {
   "cell_type": "code",
   "execution_count": 33,
   "metadata": {},
   "outputs": [],
   "source": [
    "data_test2_id = data_test2['user_id'].values\n",
    "data_test2_id_final = pd.DataFrame(data_test2_id,columns={'user_id'})\n",
    "data_test2 = data_test2.drop(['user_id','register_time'],axis=1)"
   ]
  },
  {
   "cell_type": "code",
   "execution_count": 34,
   "metadata": {},
   "outputs": [],
   "source": [
    "data_test2_final = data_test2.drop(none_mean, axis=1)\n",
    "data_test2_final = scaler.transform(data_test2_final.values)"
   ]
  },
  {
   "cell_type": "code",
   "execution_count": 35,
   "metadata": {},
   "outputs": [],
   "source": [
    "data_test2_pred = SGDModel.predict(data_test2_final)"
   ]
  },
  {
   "cell_type": "code",
   "execution_count": 36,
   "metadata": {},
   "outputs": [],
   "source": [
    "for i in range(len(data_test2_pred)):\n",
    "    if data_test2_pred[i] < data_test2_7pays[i]:\n",
    "        data_test2_pred[i] = data_test2_7pays[i]"
   ]
  },
  {
   "cell_type": "code",
   "execution_count": 37,
   "metadata": {},
   "outputs": [],
   "source": [
    "for i in range(len(data_test2_pred)):\n",
    "    if data_test2_pred[i] < 0:\n",
    "        data_test2_pred[i] = 0"
   ]
  },
  {
   "cell_type": "code",
   "execution_count": 38,
   "metadata": {},
   "outputs": [],
   "source": [
    "data_test2_pred_howmuch = pd.DataFrame(data_test2_pred,columns={'prediction_pay_price'})"
   ]
  },
  {
   "cell_type": "code",
   "execution_count": 39,
   "metadata": {},
   "outputs": [],
   "source": [
    "data_test2_result = pd.concat([data_test2_id_final,data_test2_pred_howmuch],axis=1)"
   ]
  },
  {
   "cell_type": "code",
   "execution_count": 40,
   "metadata": {},
   "outputs": [],
   "source": [
    "data_test2_result.to_csv('tap_fun_result_part2.csv')"
   ]
  },
  {
   "cell_type": "code",
   "execution_count": 41,
   "metadata": {},
   "outputs": [],
   "source": [
    "pred_part1 = pd.read_csv('tap_fun_result_part1.csv',index_col=0,parse_dates=True)\n",
    "pred_part2 = pd.read_csv('tap_fun_result_part2.csv',index_col=0,parse_dates=True)"
   ]
  },
  {
   "cell_type": "code",
   "execution_count": 42,
   "metadata": {},
   "outputs": [],
   "source": [
    "pred = pred_part1.append(pred_part2)"
   ]
  },
  {
   "cell_type": "code",
   "execution_count": 43,
   "metadata": {},
   "outputs": [
    {
     "name": "stdout",
     "output_type": "stream",
     "text": [
      "(828934, 2)\n"
     ]
    }
   ],
   "source": [
    "print(pred.shape)"
   ]
  },
  {
   "cell_type": "code",
   "execution_count": 44,
   "metadata": {},
   "outputs": [],
   "source": [
    "pred.to_csv('pred_result.csv',index=False)"
   ]
  },
  {
   "cell_type": "code",
   "execution_count": null,
   "metadata": {},
   "outputs": [],
   "source": []
  }
 ],
 "metadata": {
  "kernelspec": {
   "display_name": "Python 3",
   "language": "python",
   "name": "python3"
  },
  "language_info": {
   "codemirror_mode": {
    "name": "ipython",
    "version": 3
   },
   "file_extension": ".py",
   "mimetype": "text/x-python",
   "name": "python",
   "nbconvert_exporter": "python",
   "pygments_lexer": "ipython3",
   "version": "3.7.0"
  }
 },
 "nbformat": 4,
 "nbformat_minor": 2
}
